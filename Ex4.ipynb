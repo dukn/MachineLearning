{
 "cells": [
  {
   "cell_type": "markdown",
   "metadata": {},
   "source": [
    "# Logistic regression"
   ]
  },
  {
   "cell_type": "markdown",
   "metadata": {},
   "source": [
    "-----------------------------------------------------"
   ]
  },
  {
   "cell_type": "code",
   "execution_count": 25,
   "metadata": {
    "collapsed": false
   },
   "outputs": [],
   "source": [
    "x = readdlm(\"ex4x.dat\");\n",
    "y = readdlm(\"ex4y.dat\");"
   ]
  },
  {
   "cell_type": "code",
   "execution_count": 26,
   "metadata": {
    "collapsed": false
   },
   "outputs": [
    {
     "name": "stdout",
     "output_type": "stream",
     "text": [
      "(80,2)(80,1)"
     ]
    }
   ],
   "source": [
    "print(size(x))\n",
    "print(size(y))\n",
    "#\n",
    "(m,n) = size(x);"
   ]
  },
  {
   "cell_type": "code",
   "execution_count": 27,
   "metadata": {
    "collapsed": false
   },
   "outputs": [
    {
     "name": "stdout",
     "output_type": "stream",
     "text": [
      "(80,3)"
     ]
    }
   ],
   "source": [
    "# reshape x to (20 x 2)\n",
    "x = reshape(x, m, n);\n",
    "# add x_0 (bias)\n",
    "x = [ones(m,1) x];\n",
    "print(size(x))"
   ]
  },
  {
   "cell_type": "code",
   "execution_count": 28,
   "metadata": {
    "collapsed": false
   },
   "outputs": [],
   "source": [
    "#initialize fitting parameters\n",
    "theta = zeros(n+1,1);"
   ]
  },
  {
   "cell_type": "code",
   "execution_count": 31,
   "metadata": {
    "collapsed": false
   },
   "outputs": [
    {
     "data": {
      "text/plain": [
       "g (generic function with 1 method)"
      ]
     },
     "execution_count": 31,
     "metadata": {},
     "output_type": "execute_result"
    }
   ],
   "source": [
    "#Define the sigmoid funciont\n",
    "function g(n)\n",
    "    return 1.0 ./(1.0+ exp(-n))\n",
    "end"
   ]
  },
  {
   "cell_type": "code",
   "execution_count": 33,
   "metadata": {
    "collapsed": false
   },
   "outputs": [],
   "source": [
    "# Newton's method\n"
   ]
  },
  {
   "cell_type": "code",
   "execution_count": 34,
   "metadata": {
    "collapsed": true
   },
   "outputs": [],
   "source": [
    "# Set iterations \n",
    "Iter = 10;\n",
    "J = zeros(Iter, 1);"
   ]
  },
  {
   "cell_type": "code",
   "execution_count": 58,
   "metadata": {
    "collapsed": false
   },
   "outputs": [
    {
     "name": "stdout",
     "output_type": "stream",
     "text": [
      "[-16.3787; 0.148341; 0.158908]"
     ]
    }
   ],
   "source": [
    "# Loop\n",
    "for i in 1:Iter\n",
    "    # Calculate the hypothesis fucntion\n",
    "    z = x*theta;\n",
    "    # Calculate sigmoid\n",
    "    h = g(z);\n",
    "    # Calculate gradient and hession.\n",
    "    # The formulas below are equivalent to the summation formulars\n",
    "    # Given in the lecture videos.\n",
    "    grad = (1/m) .* x' * (h-y);\n",
    "    H = (1/m) .* x' * diagm(vec(h)) * diagm(vec(1-h)) * x;\n",
    "    # Calculate J for testing convergence\n",
    "    J[i] = (1/m)*sum(-y .* log(h) - (1-y) .* log(1-h));\n",
    "    theta = theta - H\\grad;\n",
    "print(theta)"
   ]
  },
  {
   "cell_type": "code",
   "execution_count": 60,
   "metadata": {
    "collapsed": false
   },
   "outputs": [
    {
     "data": {
      "text/plain": [
       "1×1 Array{Float64,2}:\n",
       " 0.668022"
      ]
     },
     "execution_count": 60,
     "metadata": {},
     "output_type": "execute_result"
    }
   ],
   "source": [
    "# Calculate the probability that a student with \n",
    "# Score 20 on exam 1 and score 80 on exam 2\n",
    "# will not be admitted\n",
    "prob = 1 - g([1 20 80] * theta)"
   ]
  },
  {
   "cell_type": "code",
   "execution_count": 61,
   "metadata": {
    "collapsed": false
   },
   "outputs": [
    {
     "name": "stdout",
     "output_type": "stream",
     "text": [
      "[0.405447; 0.405447; 0.405447; 0.405447; 0.405447; 0.405447; 0.405447; 0.405447; 0.405447; 0.405447]"
     ]
    }
   ],
   "source": [
    "print(J)"
   ]
  },
  {
   "cell_type": "code",
   "execution_count": null,
   "metadata": {
    "collapsed": true
   },
   "outputs": [],
   "source": []
  },
  {
   "cell_type": "code",
   "execution_count": null,
   "metadata": {
    "collapsed": true
   },
   "outputs": [],
   "source": []
  }
 ],
 "metadata": {
  "kernelspec": {
   "display_name": "Julia 0.5.1",
   "language": "julia",
   "name": "julia-0.5"
  },
  "language_info": {
   "file_extension": ".jl",
   "mimetype": "application/julia",
   "name": "julia",
   "version": "0.5.1"
  }
 },
 "nbformat": 4,
 "nbformat_minor": 2
}
