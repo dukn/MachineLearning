{
 "cells": [
  {
   "cell_type": "markdown",
   "metadata": {},
   "source": [
    "# Logistic regression Gradient Descent"
   ]
  },
  {
   "cell_type": "markdown",
   "metadata": {},
   "source": [
    "------------------------------------------------"
   ]
  },
  {
   "cell_type": "code",
   "execution_count": 2,
   "metadata": {
    "collapsed": true
   },
   "outputs": [],
   "source": [
    "x = readdlm(\"ex4x.dat\");\n",
    "y = readdlm(\"ex4y.dat\");"
   ]
  },
  {
   "cell_type": "code",
   "execution_count": 3,
   "metadata": {
    "collapsed": false
   },
   "outputs": [
    {
     "name": "stdout",
     "output_type": "stream",
     "text": [
      "(80,2)(80,1)"
     ]
    }
   ],
   "source": [
    "print(size(x))\n",
    "print(size(y))\n",
    "#\n",
    "(m,n) = size(x);"
   ]
  },
  {
   "cell_type": "code",
   "execution_count": 4,
   "metadata": {
    "collapsed": false
   },
   "outputs": [
    {
     "name": "stdout",
     "output_type": "stream",
     "text": [
      "(80,3)"
     ]
    }
   ],
   "source": [
    "# reshape x to (20 x 2)\n",
    "x = reshape(x, m, n);\n",
    "# add x_0 (bias)\n",
    "x = [ones(m,1) x];\n",
    "print(size(x))"
   ]
  },
  {
   "cell_type": "code",
   "execution_count": 6,
   "metadata": {
    "collapsed": false,
    "scrolled": true
   },
   "outputs": [
    {
     "data": {
      "text/plain": [
       "g (generic function with 1 method)"
      ]
     },
     "execution_count": 6,
     "metadata": {},
     "output_type": "execute_result"
    }
   ],
   "source": [
    "#Define the sigmoid funciont\n",
    "function g(n)\n",
    "    return 1.0 ./(1.0+ exp(-n))\n",
    "end"
   ]
  },
  {
   "cell_type": "code",
   "execution_count": 7,
   "metadata": {
    "collapsed": true
   },
   "outputs": [],
   "source": [
    "# Stochastic Gradient Decsent."
   ]
  },
  {
   "cell_type": "code",
   "execution_count": 92,
   "metadata": {
    "collapsed": true
   },
   "outputs": [],
   "source": [
    "#initialize fitting parameters\n",
    "theta = zeros(n+1,1);\n",
    "# Set iterations \n",
    "Iter = 100;\n",
    "J = zeros(Iter, 1);\n",
    "alpha = .01;"
   ]
  },
  {
   "cell_type": "code",
   "execution_count": 93,
   "metadata": {
    "collapsed": false
   },
   "outputs": [
    {
     "name": "stdout",
     "output_type": "stream",
     "text": [
      "[-0.494351; -21.2693; -35.94]"
     ]
    }
   ],
   "source": [
    "for i in 1:Iter\n",
    "    # Calculate the hypothesis fucntion\n",
    "    z = x*theta;\n",
    "    # Calculate sigmoid\n",
    "    h = g(z);\n",
    "    # Calculate gradient\n",
    "    grad = (1/m) .* x' * (y-h);\n",
    "    # Update value\n",
    "    theta = theta - alpha .* grad;\n",
    "    J[i] = (1/m)*sum(y .* log(h) + (1-y) .* log(1-h));\n",
    "end\n",
    "print(theta)"
   ]
  },
  {
   "cell_type": "code",
   "execution_count": 77,
   "metadata": {
    "collapsed": true
   },
   "outputs": [],
   "source": [
    "using PyPlot"
   ]
  },
  {
   "cell_type": "code",
   "execution_count": 94,
   "metadata": {
    "collapsed": false
   },
   "outputs": [
    {
     "data": {
      "image/png": "[encoded data removed]",
      "text/plain": [
       "PyPlot.Figure(PyObject <matplotlib.figure.Figure object at 0x0000000021325BA8>)"
      ]
     },
     "metadata": {},
     "output_type": "display_data"
    },
    {
     "data": {
      "text/plain": [
       "1-element Array{Any,1}:\n",
       " PyObject <matplotlib.lines.Line2D object at 0x0000000021598860>"
      ]
     },
     "execution_count": 94,
     "metadata": {},
     "output_type": "execute_result"
    }
   ],
   "source": [
    "plot(x[(80*1 +1):( 80*1+40)] , x[(80*2+1):(80*2+40)], \"r+\")\n",
    "plot(x[(80*1 + 41):(80*2)] , x[(80*2+41):(80*3)],\"bo\")\n",
    "pltx = [15, 65];\n",
    "plty = (-1./theta[3]).*(theta[2].*pltx +theta[1]);\n",
    "plot(pltx, plty)"
   ]
  },
  {
   "cell_type": "markdown",
   "metadata": {},
   "source": [
    "* Negative_log_likelihood\n",
    "$$\n",
    "\\frac{1}{|\\mathcal{D}|} \\mathcal{L} (\\theta=\\{W,b\\}, \\mathcal{D}) =\n",
    "            \\frac{1}{|\\mathcal{D}|} \\sum_{i=0}^{|\\mathcal{D}|}\n",
    "                \\log(P(Y=y^{(i)}|x^{(i)}, W,b)) \\\\\n",
    "            \\ell (\\theta=\\{W,b\\}, \\mathcal{D})\n",
    "$$"
   ]
  },
  {
   "cell_type": "code",
   "execution_count": null,
   "metadata": {
    "collapsed": true
   },
   "outputs": [],
   "source": []
  }
 ],
 "metadata": {
  "kernelspec": {
   "display_name": "Julia 0.5.1",
   "language": "julia",
   "name": "julia-0.5"
  },
  "language_info": {
   "file_extension": ".jl",
   "mimetype": "application/julia",
   "name": "julia",
   "version": "0.5.1"
  }
 },
 "nbformat": 4,
 "nbformat_minor": 2
}
